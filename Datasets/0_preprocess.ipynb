{
 "cells": [
  {
   "cell_type": "code",
   "execution_count": 1,
   "id": "5338d38c",
   "metadata": {},
   "outputs": [
    {
     "name": "stdout",
     "output_type": "stream",
     "text": [
      "✅ 파일이 성공적으로 합쳐졌습니다: /home/woongjae/noise-tracing/muti-feature_fusion/Datasets/meta_all.csv\n"
     ]
    }
   ],
   "source": [
    "import pandas as pd\n",
    "\n",
    "# 파일 경로\n",
    "file1 = '/home/woongjae/noise-tracing/muti-feature_fusion/Datasets/meta_file.csv'\n",
    "file2 = '/home/woongjae/noise-tracing/muti-feature_fusion/Datasets/meta_auto_tune.csv'\n",
    "output_path = '/home/woongjae/noise-tracing/muti-feature_fusion/Datasets/meta_all.csv'\n",
    "\n",
    "# CSV 파일 읽기\n",
    "df1 = pd.read_csv(file1)\n",
    "df2 = pd.read_csv(file2)\n",
    "\n",
    "# 데이터 합치기\n",
    "df_merged = pd.concat([df1, df2], ignore_index=True)\n",
    "\n",
    "# 저장\n",
    "df_merged.to_csv(output_path, index=False)\n",
    "print(f\"✅ 파일이 성공적으로 합쳐졌습니다: {output_path}\")\n"
   ]
  },
  {
   "cell_type": "code",
   "execution_count": null,
   "id": "199b332c",
   "metadata": {},
   "outputs": [],
   "source": []
  }
 ],
 "metadata": {
  "kernelspec": {
   "display_name": "asvspoof5",
   "language": "python",
   "name": "python3"
  },
  "language_info": {
   "codemirror_mode": {
    "name": "ipython",
    "version": 3
   },
   "file_extension": ".py",
   "mimetype": "text/x-python",
   "name": "python",
   "nbconvert_exporter": "python",
   "pygments_lexer": "ipython3",
   "version": "3.9.21"
  }
 },
 "nbformat": 4,
 "nbformat_minor": 5
}
