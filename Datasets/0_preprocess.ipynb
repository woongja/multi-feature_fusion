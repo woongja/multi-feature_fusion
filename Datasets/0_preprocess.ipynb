{
 "cells": [
  {
   "cell_type": "code",
   "execution_count": 1,
   "id": "5338d38c",
   "metadata": {},
   "outputs": [
    {
     "name": "stdout",
     "output_type": "stream",
     "text": [
      "✅ 파일이 성공적으로 합쳐졌습니다: /home/woongjae/noise-tracing/muti-feature_fusion/Datasets/meta_all.csv\n"
     ]
    }
   ],
   "source": [
    "import pandas as pd\n",
    "\n",
    "# 파일 경로\n",
    "file1 = '/home/woongjae/noise-tracing/muti-feature_fusion/Datasets/meta_file.csv'\n",
    "file2 = '/home/woongjae/noise-tracing/muti-feature_fusion/Datasets/meta_auto_tune.csv'\n",
    "output_path = '/home/woongjae/noise-tracing/muti-feature_fusion/Datasets/meta_all.csv'\n",
    "\n",
    "# CSV 파일 읽기\n",
    "df1 = pd.read_csv(file1)\n",
    "df2 = pd.read_csv(file2)\n",
    "\n",
    "# 데이터 합치기\n",
    "df_merged = pd.concat([df1, df2], ignore_index=True)\n",
    "\n",
    "# 저장\n",
    "df_merged.to_csv(output_path, index=False)\n",
    "print(f\"✅ 파일이 성공적으로 합쳐졌습니다: {output_path}\")\n"
   ]
  },
  {
   "cell_type": "markdown",
   "id": "9c23fa2d",
   "metadata": {},
   "source": [
    "### subset 나누기"
   ]
  },
  {
   "cell_type": "code",
   "execution_count": 4,
   "id": "199b332c",
   "metadata": {},
   "outputs": [
    {
     "name": "stdout",
     "output_type": "stream",
     "text": [
      "train    270269\n",
      "eval     152900\n",
      "dev      115831\n",
      "Name: Split, dtype: int64\n",
      "\n",
      "✅ 데이터셋 분할 완료: /home/woongjae/noise-tracing/muti-feature_fusion/Datasets/meta_subset.csv\n"
     ]
    }
   ],
   "source": [
    "import pandas as pd\n",
    "from sklearn.model_selection import train_test_split\n",
    "\n",
    "# 🔍 경로 및 데이터 불러오기\n",
    "meta_path = \"/home/woongjae/noise-tracing/muti-feature_fusion/Datasets/meta.csv\"\n",
    "df = pd.read_csv(meta_path)\n",
    "\n",
    "# 📌 분할 컬럼 추가\n",
    "df['Split'] = None\n",
    "\n",
    "# ✅ 1. Bonafide 분할\n",
    "# 1-1. CommonVoice는 eval\n",
    "df.loc[(df['label2'] == 'bonafide') & (df['group'] == 'TIMIT'), 'Split'] = 'eval'\n",
    "\n",
    "# 1-2. VCTK & LibriSpeech → train/dev 분할\n",
    "real_train_dev = df[(df['label2'] == 'bonafide') & (df['group'].isin(['VCTK', 'LibriSpeech']))]\n",
    "train_idx, dev_idx = train_test_split(real_train_dev.index, test_size=0.3, random_state=42, shuffle=True)\n",
    "df.loc[train_idx, 'Split'] = 'train'\n",
    "df.loc[dev_idx, 'Split'] = 'dev'\n",
    "\n",
    "# ✅ 2. Spoof 분할\n",
    "spoof_df = df[df['label2'] == 'spoof']\n",
    "for group_name in spoof_df['group'].unique():\n",
    "    group_data = spoof_df[spoof_df['group'] == group_name]\n",
    "    \n",
    "    # 50% → eval\n",
    "    group_eval_idx = group_data.sample(frac=0.5, random_state=42).index\n",
    "    df.loc[group_eval_idx, 'Split'] = 'eval'\n",
    "    \n",
    "    # 나머지 → train/dev\n",
    "    remaining = group_data.drop(index=group_eval_idx)\n",
    "    group_train_idx, group_dev_idx = train_test_split(remaining.index, test_size=0.3, random_state=42)\n",
    "    df.loc[group_train_idx, 'Split'] = 'train'\n",
    "    df.loc[group_dev_idx, 'Split'] = 'dev'\n",
    "\n",
    "# ✅ 검증\n",
    "print(df['Split'].value_counts())\n",
    "\n",
    "# 💾 저장\n",
    "output_path = \"/home/woongjae/noise-tracing/muti-feature_fusion/Datasets/meta_subset.csv\"\n",
    "df.to_csv(output_path, index=False)\n",
    "print(f\"\\n✅ 데이터셋 분할 완료: {output_path}\")\n"
   ]
  },
  {
   "cell_type": "code",
   "execution_count": null,
   "id": "ed8597c0",
   "metadata": {},
   "outputs": [],
   "source": []
  }
 ],
 "metadata": {
  "kernelspec": {
   "display_name": "asvspoof5",
   "language": "python",
   "name": "python3"
  },
  "language_info": {
   "codemirror_mode": {
    "name": "ipython",
    "version": 3
   },
   "file_extension": ".py",
   "mimetype": "text/x-python",
   "name": "python",
   "nbconvert_exporter": "python",
   "pygments_lexer": "ipython3",
   "version": "3.9.21"
  }
 },
 "nbformat": 4,
 "nbformat_minor": 5
}
