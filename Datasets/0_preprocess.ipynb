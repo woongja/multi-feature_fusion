{
 "cells": [
  {
   "cell_type": "code",
   "execution_count": 1,
   "id": "5338d38c",
   "metadata": {},
   "outputs": [
    {
     "name": "stdout",
     "output_type": "stream",
     "text": [
      "✅ 파일이 성공적으로 합쳐졌습니다: /home/woongjae/noise-tracing/muti-feature_fusion/Datasets/meta_all.csv\n"
     ]
    }
   ],
   "source": [
    "import pandas as pd\n",
    "\n",
    "# 파일 경로\n",
    "file1 = '/home/woongjae/noise-tracing/muti-feature_fusion/Datasets/meta_file.csv'\n",
    "file2 = '/home/woongjae/noise-tracing/muti-feature_fusion/Datasets/meta_auto_tune.csv'\n",
    "output_path = '/home/woongjae/noise-tracing/muti-feature_fusion/Datasets/meta_all.csv'\n",
    "\n",
    "# CSV 파일 읽기\n",
    "df1 = pd.read_csv(file1)\n",
    "df2 = pd.read_csv(file2)\n",
    "\n",
    "# 데이터 합치기\n",
    "df_merged = pd.concat([df1, df2], ignore_index=True)\n",
    "\n",
    "# 저장\n",
    "df_merged.to_csv(output_path, index=False)\n",
    "print(f\"✅ 파일이 성공적으로 합쳐졌습니다: {output_path}\")\n"
   ]
  },
  {
   "cell_type": "markdown",
   "id": "9c23fa2d",
   "metadata": {},
   "source": [
    "### subset 나누기"
   ]
  },
  {
   "cell_type": "code",
   "execution_count": 4,
   "id": "199b332c",
   "metadata": {},
   "outputs": [
    {
     "name": "stdout",
     "output_type": "stream",
     "text": [
      "train    270269\n",
      "eval     152900\n",
      "dev      115831\n",
      "Name: Split, dtype: int64\n",
      "\n",
      "✅ 데이터셋 분할 완료: /home/woongjae/noise-tracing/muti-feature_fusion/Datasets/meta_subset.csv\n"
     ]
    }
   ],
   "source": [
    "import pandas as pd\n",
    "from sklearn.model_selection import train_test_split\n",
    "\n",
    "# 🔍 경로 및 데이터 불러오기\n",
    "meta_path = \"/home/woongjae/noise-tracing/muti-feature_fusion/Datasets/meta.csv\"\n",
    "df = pd.read_csv(meta_path)\n",
    "\n",
    "# 📌 분할 컬럼 추가\n",
    "df['Split'] = None\n",
    "\n",
    "# ✅ 1. Bonafide 분할\n",
    "# 1-1. CommonVoice는 eval\n",
    "df.loc[(df['label2'] == 'bonafide') & (df['group'] == 'TIMIT'), 'Split'] = 'eval'\n",
    "\n",
    "# 1-2. VCTK & LibriSpeech → train/dev 분할\n",
    "real_train_dev = df[(df['label2'] == 'bonafide') & (df['group'].isin(['VCTK', 'LibriSpeech']))]\n",
    "train_idx, dev_idx = train_test_split(real_train_dev.index, test_size=0.3, random_state=42, shuffle=True)\n",
    "df.loc[train_idx, 'Split'] = 'train'\n",
    "df.loc[dev_idx, 'Split'] = 'dev'\n",
    "\n",
    "# ✅ 2. Spoof 분할\n",
    "spoof_df = df[df['label2'] == 'spoof']\n",
    "for group_name in spoof_df['group'].unique():\n",
    "    group_data = spoof_df[spoof_df['group'] == group_name]\n",
    "    \n",
    "    # 50% → eval\n",
    "    group_eval_idx = group_data.sample(frac=0.5, random_state=42).index\n",
    "    df.loc[group_eval_idx, 'Split'] = 'eval'\n",
    "    \n",
    "    # 나머지 → train/dev\n",
    "    remaining = group_data.drop(index=group_eval_idx)\n",
    "    group_train_idx, group_dev_idx = train_test_split(remaining.index, test_size=0.3, random_state=42)\n",
    "    df.loc[group_train_idx, 'Split'] = 'train'\n",
    "    df.loc[group_dev_idx, 'Split'] = 'dev'\n",
    "\n",
    "# ✅ 검증\n",
    "print(df['Split'].value_counts())\n",
    "\n",
    "# 💾 저장\n",
    "output_path = \"/home/woongjae/noise-tracing/muti-feature_fusion/Datasets/meta_subset.csv\"\n",
    "df.to_csv(output_path, index=False)\n",
    "print(f\"\\n✅ 데이터셋 분할 완료: {output_path}\")\n"
   ]
  },
  {
   "cell_type": "markdown",
   "id": "755b6ae4",
   "metadata": {},
   "source": [
    "### Protocol 파일 만들기"
   ]
  },
  {
   "cell_type": "code",
   "execution_count": 1,
   "id": "ed8597c0",
   "metadata": {},
   "outputs": [],
   "source": [
    "import pandas as pd\n",
    "\n",
    "# 데이터 로드\n",
    "df = pd.read_csv('/home/woongjae/multi-feature_fusion/Datasets/meta_subset.csv')\n",
    "\n",
    "# 프로토콜 텍스트 만들기 함수\n",
    "def make_protocol_multi(df, subset_list, protocol_path):\n",
    "    # 여러 subset 필터링 (예: train, dev)\n",
    "    proto_df = df[df['Subset'].str.lower().isin(subset_list)]\n",
    "    with open(protocol_path, 'w') as f:\n",
    "        for _, row in proto_df.iterrows():\n",
    "            # Train/dev 모두 'Train'으로 통일\n",
    "            f.write(f\"{row['file_path']}\\tTrain\\t{row['label1']}\\n\")\n",
    "\n",
    "# 사용 예시: train/dev 합친 파일 만들기\n",
    "make_protocol_multi(df, ['train', 'dev'], 'protocol_train_dev.txt')\n",
    "\n",
    "# eval은 기존대로 (참고)\n",
    "make_protocol_multi(df, ['eval'], 'protocol_eval.txt')\n"
   ]
  },
  {
   "cell_type": "markdown",
   "id": "6949fb3b",
   "metadata": {},
   "source": [
    "### protocol 파일 경로 바꾸기"
   ]
  },
  {
   "cell_type": "code",
   "execution_count": 4,
   "id": "c237938b",
   "metadata": {},
   "outputs": [
    {
     "name": "stdout",
     "output_type": "stream",
     "text": [
      "✅ 경로 치환 완료! 결과 저장 위치: protocol_eval_f.txt\n"
     ]
    }
   ],
   "source": [
    "# 프로토콜 파일을 한 줄씩 읽어서 경로 일괄 치환\n",
    "# input_path = \"protocol_train_dev.txt\"   # 원본 파일\n",
    "# output_path = \"protocol_train_dev_fixed.txt\"  # 저장할 파일\n",
    "input_path = \"protocol_eval.txt\"   # 원본 파일\n",
    "output_path = \"protocol_eval_f.txt\"  # 저장할 파일\n",
    "old_prefix = \"home/woongjae/noise-tracing/muti-feature_fusion\"\n",
    "new_prefix = \"home/woongjae/multi-feature_fusion\"\n",
    "\n",
    "with open(input_path, \"r\") as fin, open(output_path, \"w\") as fout:\n",
    "    for line in fin:\n",
    "        # 경로 치환\n",
    "        new_line = line.replace(old_prefix, new_prefix)\n",
    "        fout.write(new_line)\n",
    "\n",
    "print(f\"✅ 경로 치환 완료! 결과 저장 위치: {output_path}\")\n"
   ]
  },
  {
   "cell_type": "markdown",
   "id": "2eac2540",
   "metadata": {},
   "source": [
    "### protocol 파일 레이블 변경"
   ]
  },
  {
   "cell_type": "code",
   "execution_count": 6,
   "id": "0649f09b",
   "metadata": {},
   "outputs": [
    {
     "name": "stdout",
     "output_type": "stream",
     "text": [
      "✅ 프로토콜 파일 라벨 치환 완료! 저장 위치: protocol_eval_f.txt\n"
     ]
    }
   ],
   "source": [
    "# protocol 파일에서 label1 치환(수정)\n",
    "# input_path = \"protocol_train_dev.txt\"    # 기존 프로토콜 파일명\n",
    "# output_path = \"protocol_train_dev_fixed.txt\"   # 수정된 파일명\n",
    "\n",
    "input_path = \"protocol_eval.txt\"    # 기존 프로토콜 파일명\n",
    "output_path = \"protocol_eval_f.txt\"   # 수정된 파일명\n",
    "\n",
    "# 치환 매핑 딕셔너리\n",
    "replace_dict = {\n",
    "    \"high_pass_filter\": \"band_pass_filter\",\n",
    "    \"low_pass_filter\": \"band_pass_filter\",\n",
    "    \"pitch_shift\": \"manipulation\",\n",
    "    \"time_stretch\": \"manipulation\"\n",
    "}\n",
    "\n",
    "with open(input_path, \"r\") as fin, open(output_path, \"w\") as fout:\n",
    "    for line in fin:\n",
    "        items = line.strip().split('\\t')\n",
    "        if len(items) != 3:\n",
    "            fout.write(line)  # 포맷 이상 줄은 그대로 출력\n",
    "            continue\n",
    "        # label1 치환\n",
    "        label1 = replace_dict.get(items[2], items[2])\n",
    "        fout.write(f\"{items[0]}\\t{items[1]}\\t{label1}\\n\")\n",
    "\n",
    "print(f\"✅ 프로토콜 파일 라벨 치환 완료! 저장 위치: {output_path}\")\n"
   ]
  },
  {
   "cell_type": "code",
   "execution_count": null,
   "id": "5ec0e531",
   "metadata": {},
   "outputs": [],
   "source": []
  }
 ],
 "metadata": {
  "kernelspec": {
   "display_name": "train",
   "language": "python",
   "name": "python3"
  },
  "language_info": {
   "codemirror_mode": {
    "name": "ipython",
    "version": 3
   },
   "file_extension": ".py",
   "mimetype": "text/x-python",
   "name": "python",
   "nbconvert_exporter": "python",
   "pygments_lexer": "ipython3",
   "version": "3.9.23"
  }
 },
 "nbformat": 4,
 "nbformat_minor": 5
}
