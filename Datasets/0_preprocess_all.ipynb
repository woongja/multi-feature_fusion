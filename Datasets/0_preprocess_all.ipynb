{
 "cells": [
  {
   "cell_type": "code",
   "execution_count": 1,
   "id": "2b03c1a4",
   "metadata": {},
   "outputs": [],
   "source": [
    "import os\n",
    "import pandas as pd\n",
    "import glob"
   ]
  },
  {
   "cell_type": "markdown",
   "id": "448f57e8",
   "metadata": {},
   "source": [
    "### Bonafide 메타데이터 합치기"
   ]
  },
  {
   "cell_type": "code",
   "execution_count": null,
   "id": "7b0ab9b7",
   "metadata": {},
   "outputs": [],
   "source": [
    "# 각 메타데이터 불러오기\n",
    "vctk_df = pd.read_csv('/home/woongjae/noise-tracing/new_dataset/meta_new_VCTK.csv')\n",
    "librispeech_df = pd.read_csv('/home/woongjae/noise-tracing/new_dataset/meta_new_LibriSpeech.csv')"
   ]
  },
  {
   "cell_type": "code",
   "execution_count": 10,
   "id": "82f2a49f",
   "metadata": {},
   "outputs": [],
   "source": [
    "# 통합\n",
    "merged_df = pd.concat([vctk_df, librispeech_df, commonvoice_df], ignore_index=True)\n",
    "\n",
    "# 저장\n",
    "merged_df.to_csv('meta_bonafide.csv', index=False)"
   ]
  },
  {
   "cell_type": "markdown",
   "id": "e0cd719b",
   "metadata": {},
   "source": [
    "### spoof + bonafide"
   ]
  },
  {
   "cell_type": "code",
   "execution_count": null,
   "id": "f221ef4b",
   "metadata": {},
   "outputs": [],
   "source": [
    "spoof_df = pd.read_csv('/home/woongjae/noise-tracing/new_dataset/meta_new_DSDCorpus.csv')\n",
    "bonafide_df = pd.read_csv('/home/woongjae/noise-tracing/new_dataset/meta_bonafide.csv')\n",
    "\n",
    "merged_df = pd.concat([spoof_df, bonafide_df], ignore_index=True)\n",
    "merged_df.to_csv('meta_bonafide_spoof.csv', index=False)"
   ]
  },
  {
   "cell_type": "markdown",
   "id": "a470f482",
   "metadata": {},
   "source": [
    "### 전체 메타 파일 정보"
   ]
  },
  {
   "cell_type": "code",
   "execution_count": 3,
   "id": "315ac117",
   "metadata": {},
   "outputs": [
    {
     "name": "stdout",
     "output_type": "stream",
     "text": [
      "전체 샘플 수: 52700\n",
      "Label 분포:\n",
      "bonafide    37500\n",
      "spoof       15200\n",
      "Name: Label, dtype: int64\n"
     ]
    }
   ],
   "source": [
    "meta_df = pd.read_csv('/home/woongjae/noise-tracing/new_dataset/meta_bonafide_spoof.csv')\n",
    "\n",
    "# 1. 전체 샘플 수\n",
    "total_samples = len(meta_df)\n",
    "print(f'전체 샘플 수: {total_samples}')\n",
    "\n",
    "# 2. Label 분포 확인 (bonafide vs spoof)\n",
    "label_counts = meta_df['Label'].value_counts()\n",
    "print('Label 분포:')\n",
    "print(label_counts)"
   ]
  },
  {
   "cell_type": "markdown",
   "id": "7a58e501",
   "metadata": {},
   "source": [
    "### 노이즈 레이블 열 추가하기"
   ]
  },
  {
   "cell_type": "code",
   "execution_count": 4,
   "id": "005fd43d",
   "metadata": {},
   "outputs": [],
   "source": [
    "meta_df = pd.read_csv('/home/woongjae/noise-tracing/new_dataset/meta_bonafide_spoof.csv')\n",
    "\n",
    "# 컬럼 이름 변경: Label → Label2\n",
    "meta_df = meta_df.rename(columns={'Label': 'Label2'})\n",
    "\n",
    "# 새 컬럼 Label1 생성 → 모든 샘플은 처음엔 'clean'\n",
    "meta_df['Label1'] = 'clean'\n",
    "\n",
    "# 저장\n",
    "meta_df.to_csv('meta_clean.csv', index=False)"
   ]
  },
  {
   "cell_type": "markdown",
   "id": "9298e3eb",
   "metadata": {},
   "source": [
    "### 전체 노이즈 메타 파일 합치기"
   ]
  },
  {
   "cell_type": "code",
   "execution_count": 2,
   "metadata": {},
   "outputs": [
    {
     "name": "stdout",
     "output_type": "stream",
     "text": [
      "✅ 최종 통합 메타데이터 저장 완료: /home/woongjae/noise-tracing/new_dataset/meta_all.csv\n"
     ]
    }
   ],
   "source": [
    "import pandas as pd\n",
    "\n",
    "# 📌 Clean 메타데이터\n",
    "clean_path = \"/home/woongjae/noise-tracing/new_dataset/Dataset/metafile/meta_clean.csv\"\n",
    "df_clean = pd.read_csv(clean_path)\n",
    "\n",
    "# 📌 각 노이즈 타입별 메타데이터 수동 지정\n",
    "noise_paths = [\n",
    "    \"/home/woongjae/noise-tracing/new_dataset/Dataset/metafile/meta_background_noise.csv\",\n",
    "    \"/home/woongjae/noise-tracing/new_dataset/Dataset/metafile/meta_background_music.csv\",\n",
    "    \"/home/woongjae/noise-tracing/new_dataset/Dataset/metafile/meta_overlapping_speech.csv\",\n",
    "    \"/home/woongjae/noise-tracing/new_dataset/Dataset/metafile/meta_white_noise.csv\",\n",
    "    \"/home/woongjae/noise-tracing/new_dataset/Dataset/metafile/meta_pink_noise.csv\",\n",
    "    \"/home/woongjae/noise-tracing/new_dataset/Dataset/metafile/meta_pitch_shift.csv\",\n",
    "    \"/home/woongjae/noise-tracing/new_dataset/Dataset/metafile/meta_time_stretch.csv\",\n",
    "    \"/home/woongjae/noise-tracing/new_dataset/Dataset/metafile/meta_auto_tune.csv\",\n",
    "    \"/home/woongjae/noise-tracing/new_dataset/Dataset/metafile/meta_reverberation.csv\"\n",
    "]\n",
    "\n",
    "# 📥 전체 메타데이터 통합\n",
    "dfs = [df_clean] + [pd.read_csv(path) for path in noise_paths]\n",
    "df_total = pd.concat(dfs, ignore_index=True)\n",
    "\n",
    "# 💾 저장\n",
    "output_path = \"/home/woongjae/noise-tracing/new_dataset/meta_all.csv\"\n",
    "df_total.to_csv(output_path, index=False)\n",
    "\n",
    "print(f\"✅ 최종 통합 메타데이터 저장 완료: {output_path}\")\n"
   ]
  },
  {
   "cell_type": "markdown",
   "id": "7dc3e7d3",
   "metadata": {},
   "source": [
    "### Train/Dev/Eval 셋 나누기"
   ]
  },
  {
   "cell_type": "code",
   "execution_count": null,
   "id": "ccf9b8b7",
   "metadata": {},
   "outputs": [],
   "source": [
    "import pandas as pd\n",
    "from sklearn.model_selection import train_test_split\n",
    "\n",
    "# 🔍 경로 및 데이터 불러오기\n",
    "meta_path = \"/home/woongjae/noise-tracing/new_dataset/meta_total.csv\"\n",
    "df = pd.read_csv(meta_path)\n",
    "\n",
    "# 📌 분할 컬럼 추가\n",
    "df['Split'] = None\n",
    "\n",
    "# ✅ 1. Bonafide 분할\n",
    "# 1-1. CommonVoice는 eval\n",
    "df.loc[(df['Label2'] == 'bonafide') & (df['Subset'] == 'CommonVoice'), 'Split'] = 'eval'\n",
    "\n",
    "# 1-2. VCTK & LibriSpeech → train/dev 분할\n",
    "real_train_dev = df[(df['Label2'] == 'bonafide') & (df['Subset'].isin(['VCTK', 'LibriSpeech']))]\n",
    "train_idx, dev_idx = train_test_split(real_train_dev.index, test_size=0.2, random_state=42, shuffle=True)\n",
    "df.loc[train_idx, 'Split'] = 'train'\n",
    "df.loc[dev_idx, 'Split'] = 'dev'\n",
    "\n",
    "# ✅ 2. Spoof 분할\n",
    "spoof_df = df[df['Label2'] == 'spoof']\n",
    "for group_name in spoof_df['group'].unique():\n",
    "    group_data = spoof_df[spoof_df['group'] == group_name]\n",
    "    \n",
    "    # 50% → eval\n",
    "    group_eval_idx = group_data.sample(frac=0.5, random_state=42).index\n",
    "    df.loc[group_eval_idx, 'Split'] = 'eval'\n",
    "    \n",
    "    # 나머지 → train/dev\n",
    "    remaining = group_data.drop(index=group_eval_idx)\n",
    "    group_train_idx, group_dev_idx = train_test_split(remaining.index, test_size=0.2, random_state=42)\n",
    "    df.loc[group_train_idx, 'Split'] = 'train'\n",
    "    df.loc[group_dev_idx, 'Split'] = 'dev'\n",
    "\n",
    "# ✅ 검증\n",
    "print(df['Split'].value_counts())\n",
    "\n",
    "# 💾 저장\n",
    "output_path = \"/home/woongjae/noise-tracing/new_dataset/meta_total_with_split.csv\"\n",
    "df.to_csv(output_path, index=False)\n",
    "print(f\"\\n✅ 데이터셋 분할 완료: {output_path}\")\n"
   ]
  },
  {
   "cell_type": "markdown",
   "id": "0411509b",
   "metadata": {},
   "source": [
    "### 안만들어진 파일 찾기"
   ]
  },
  {
   "cell_type": "code",
   "execution_count": 1,
   "id": "e284259c",
   "metadata": {},
   "outputs": [
    {
     "name": "stdout",
     "output_type": "stream",
     "text": [
      "❗ 누락된 샘플 수: 2개\n"
     ]
    },
    {
     "data": {
      "text/html": [
       "<div>\n",
       "<style scoped>\n",
       "    .dataframe tbody tr th:only-of-type {\n",
       "        vertical-align: middle;\n",
       "    }\n",
       "\n",
       "    .dataframe tbody tr th {\n",
       "        vertical-align: top;\n",
       "    }\n",
       "\n",
       "    .dataframe thead th {\n",
       "        text-align: right;\n",
       "    }\n",
       "</style>\n",
       "<table border=\"1\" class=\"dataframe\">\n",
       "  <thead>\n",
       "    <tr style=\"text-align: right;\">\n",
       "      <th></th>\n",
       "      <th>File_path</th>\n",
       "      <th>utt</th>\n",
       "      <th>speaker ID</th>\n",
       "      <th>gender</th>\n",
       "      <th>Group</th>\n",
       "      <th>Label2</th>\n",
       "      <th>Label1</th>\n",
       "    </tr>\n",
       "  </thead>\n",
       "  <tbody>\n",
       "    <tr>\n",
       "      <th>13587</th>\n",
       "      <td>/home/woongjae/noise-tracing/new_dataset/Datas...</td>\n",
       "      <td>TTS_VCTK_22_VITS_38</td>\n",
       "      <td>VCTK_22</td>\n",
       "      <td>Female</td>\n",
       "      <td>VITS-TTS</td>\n",
       "      <td>spoof</td>\n",
       "      <td>clean</td>\n",
       "    </tr>\n",
       "    <tr>\n",
       "      <th>47306</th>\n",
       "      <td>/home/woongjae/noise-tracing/new_dataset/Datas...</td>\n",
       "      <td>common_voice_en_20182997</td>\n",
       "      <td>ccf426b54d5a1d7c96254d4bbeb6c0da8d2923224687fe...</td>\n",
       "      <td>Male</td>\n",
       "      <td>CommonVoice</td>\n",
       "      <td>bonafide</td>\n",
       "      <td>clean</td>\n",
       "    </tr>\n",
       "  </tbody>\n",
       "</table>\n",
       "</div>"
      ],
      "text/plain": [
       "                                               File_path  \\\n",
       "13587  /home/woongjae/noise-tracing/new_dataset/Datas...   \n",
       "47306  /home/woongjae/noise-tracing/new_dataset/Datas...   \n",
       "\n",
       "                            utt  \\\n",
       "13587       TTS_VCTK_22_VITS_38   \n",
       "47306  common_voice_en_20182997   \n",
       "\n",
       "                                              speaker ID  gender        Group  \\\n",
       "13587                                            VCTK_22  Female     VITS-TTS   \n",
       "47306  ccf426b54d5a1d7c96254d4bbeb6c0da8d2923224687fe...    Male  CommonVoice   \n",
       "\n",
       "         Label2 Label1  \n",
       "13587     spoof  clean  \n",
       "47306  bonafide  clean  "
      ]
     },
     "execution_count": 1,
     "metadata": {},
     "output_type": "execute_result"
    }
   ],
   "source": [
    "import pandas as pd\n",
    "\n",
    "# 메타 불러오기\n",
    "clean_meta = pd.read_csv(\"/home/woongjae/noise-tracing/new_dataset/Dataset/metafile/meta_clean.csv\")\n",
    "reverb_meta = pd.read_csv(\"/home/woongjae/noise-tracing/new_dataset/meta_reverberation.csv\")\n",
    "\n",
    "# 공통 형식 정리\n",
    "clean_utts = set(clean_meta['utt'])\n",
    "reverb_utts = set(reverb_meta['utt'].str.replace(\"_reverberation\", \"\", regex=False))\n",
    "\n",
    "# 누락된 항목\n",
    "missing_utts = clean_utts - reverb_utts\n",
    "\n",
    "# 누락된 샘플 확인\n",
    "missing_df = clean_meta[clean_meta['utt'].isin(missing_utts)]\n",
    "print(f\"❗ 누락된 샘플 수: {len(missing_df)}개\")\n",
    "missing_df.head()\n"
   ]
  },
  {
   "cell_type": "markdown",
   "id": "29c6e466",
   "metadata": {},
   "source": [
    "##### 전체 메타 파일 합치기"
   ]
  },
  {
   "cell_type": "code",
   "execution_count": 4,
   "id": "1b41fde6",
   "metadata": {},
   "outputs": [
    {
     "name": "stdout",
     "output_type": "stream",
     "text": [
      "✅ 메타파일 병합 완료: /home/woongjae/noise-tracing/new_dataset/Dataset/metafile/meta_all.csv\n"
     ]
    }
   ],
   "source": [
    "# 경로 수정: 실제 메타파일 폴더\n",
    "meta_dir = \"/home/woongjae/noise-tracing/new_dataset/Dataset/metafile\"\n",
    "\n",
    "# 메타데이터 파일 필터링\n",
    "meta_files = [f for f in os.listdir(meta_dir) if f.endswith(\".csv\") and \"meta\" in f]\n",
    "\n",
    "# 병합\n",
    "merged_df = pd.concat([pd.read_csv(os.path.join(meta_dir, f)) for f in meta_files], ignore_index=True)\n",
    "\n",
    "# 저장\n",
    "output_path = os.path.join(meta_dir, \"meta_all.csv\")\n",
    "merged_df.to_csv(output_path, index=False)\n",
    "print(f\"✅ 메타파일 병합 완료: {output_path}\")\n"
   ]
  },
  {
   "cell_type": "markdown",
   "id": "8066accd",
   "metadata": {},
   "source": [
    "### 데이터셋 나누기"
   ]
  },
  {
   "cell_type": "code",
   "execution_count": 5,
   "id": "28cd24c3",
   "metadata": {},
   "outputs": [
    {
     "name": "stderr",
     "output_type": "stream",
     "text": [
      "/home/woongjae/miniconda3/envs/asvspoof5/lib/python3.9/site-packages/IPython/core/interactiveshell.py:3550: DtypeWarning: Columns (7) have mixed types.Specify dtype option on import or set low_memory=False.\n",
      "  exec(code_obj, self.user_global_ns, self.user_ns)\n"
     ]
    },
    {
     "name": "stdout",
     "output_type": "stream",
     "text": [
      "✅ 저장 완료: /home/woongjae/noise-tracing/new_dataset/Dataset/metafile/meta_subset.csv\n"
     ]
    }
   ],
   "source": [
    "# 메타 불러오기\n",
    "meta_path = \"/home/woongjae/noise-tracing/new_dataset/Dataset/metafile/meta_all.csv\"\n",
    "df = pd.read_csv(meta_path)\n",
    "\n",
    "# Subset 컬럼 추가\n",
    "df[\"Subset\"] = \"undefined\"\n",
    "\n",
    "# ✅ Bonafide 처리\n",
    "bonafide_df = df[df[\"Label2\"] == \"bonafide\"]\n",
    "\n",
    "# LibriSpeech + VCTK → train/dev\n",
    "bv_df = bonafide_df[bonafide_df[\"Group\"].isin([\"LibriSpeech\", \"VCTK\"])]\n",
    "bv_shuffled = bv_df.sample(frac=1, random_state=42)\n",
    "n_train = int(len(bv_shuffled) * 0.75)\n",
    "train_idx = bv_shuffled.iloc[:n_train].index\n",
    "dev_idx = bv_shuffled.iloc[n_train:].index\n",
    "df.loc[train_idx, \"Subset\"] = \"train\"\n",
    "df.loc[dev_idx, \"Subset\"] = \"dev\"\n",
    "\n",
    "# CommonVoice → eval\n",
    "df.loc[(df[\"Label2\"] == \"bonafide\") & (df[\"Group\"] == \"CommonVoice\"), \"Subset\"] = \"eval\"\n",
    "\n",
    "# ✅ Spoof 처리\n",
    "spoof_df = df[df[\"Label2\"] == \"spoof\"]\n",
    "for group in spoof_df[\"Group\"].unique():\n",
    "    gdf = spoof_df[spoof_df[\"Group\"] == group].sample(frac=1, random_state=42)\n",
    "    n = len(gdf)\n",
    "    n_train = int(n * 0.5)\n",
    "    n_dev = int(n * 0.25)\n",
    "    train_idx = gdf.iloc[:n_train].index\n",
    "    dev_idx = gdf.iloc[n_train:n_train + n_dev].index\n",
    "    eval_idx = gdf.iloc[n_train + n_dev:].index\n",
    "    df.loc[train_idx, \"Subset\"] = \"train\"\n",
    "    df.loc[dev_idx, \"Subset\"] = \"dev\"\n",
    "    df.loc[eval_idx, \"Subset\"] = \"eval\"\n",
    "\n",
    "# 저장\n",
    "out_path = \"/home/woongjae/noise-tracing/new_dataset/Dataset/metafile/meta_subset.csv\"\n",
    "df.to_csv(out_path, index=False)\n",
    "print(f\"✅ 저장 완료: {out_path}\")\n"
   ]
  },
  {
   "cell_type": "code",
   "execution_count": 6,
   "id": "4e8a88a0",
   "metadata": {},
   "outputs": [
    {
     "name": "stdout",
     "output_type": "stream",
     "text": [
      "       Percentage (%)   Count\n",
      "train           53.56  282250\n",
      "eval            26.19  138001\n",
      "dev             20.26  106749\n"
     ]
    }
   ],
   "source": [
    "df = pd.read_csv(\"/home/woongjae/noise-tracing/new_dataset/Dataset/metafile/meta_subset.csv\")\n",
    "\n",
    "# Subset 비율 및 개수 확인\n",
    "subset_counts = df[\"Subset\"].value_counts(normalize=True).round(4) * 100\n",
    "subset_counts = subset_counts.rename(\"Percentage (%)\").to_frame()\n",
    "subset_counts[\"Count\"] = df[\"Subset\"].value_counts()\n",
    "\n",
    "print(subset_counts)"
   ]
  },
  {
   "cell_type": "markdown",
   "id": "f97d0e5e",
   "metadata": {},
   "source": [
    "### TIMIT 저장하기"
   ]
  },
  {
   "cell_type": "code",
   "execution_count": 2,
   "id": "f8e43076",
   "metadata": {},
   "outputs": [
    {
     "name": "stdout",
     "output_type": "stream",
     "text": [
      "meta_clean.csv: 6300개 TIMIT 샘플 수집됨\n",
      "meta_background_noise.csv: 6300개 TIMIT 샘플 수집됨\n",
      "meta_overlapping_speech.csv: 6300개 TIMIT 샘플 수집됨\n",
      "meta_white_noise.csv: 6300개 TIMIT 샘플 수집됨\n",
      "meta_pitch_shift.csv: 6300개 TIMIT 샘플 수집됨\n",
      "meta_background_music.csv: 6300개 TIMIT 샘플 수집됨\n",
      "meta_auto_tune.csv: 6300개 TIMIT 샘플 수집됨\n",
      "meta_time_stretch.csv: 6300개 TIMIT 샘플 수집됨\n",
      "meta_reverberation.csv: 6300개 TIMIT 샘플 수집됨\n",
      "meta_pink_noise.csv: 6300개 TIMIT 샘플 수집됨\n",
      "\n",
      "✅ 모든 TIMIT 샘플 전체 컬럼 포함 병합 완료 → /home/woongjae/noise-tracing/new_dataset/Dataset/metafile/meta_timit_all.csv (총 63000개)\n"
     ]
    }
   ],
   "source": [
    "import os\n",
    "import pandas as pd\n",
    "\n",
    "meta_dir = \"/home/woongjae/noise-tracing/new_dataset/Dataset/metafile\"\n",
    "output_path = os.path.join(meta_dir, \"meta_timit_all.csv\")\n",
    "\n",
    "# 모든 meta_*.csv 파일 탐색\n",
    "meta_files = [f for f in os.listdir(meta_dir)\n",
    "              if f.startswith(\"meta_\") and f.endswith(\".csv\") and f != \"meta_timit_all.csv\"]\n",
    "\n",
    "df_all_timit = []\n",
    "\n",
    "for fname in meta_files:\n",
    "    fpath = os.path.join(meta_dir, fname)\n",
    "    df = pd.read_csv(fpath)\n",
    "\n",
    "    if \"Group\" not in df.columns:\n",
    "        print(f\"[스킵] {fname}: Group 컬럼 없음\")\n",
    "        continue\n",
    "\n",
    "    # TIMIT만 추출 + Subset 컬럼 명시적 추가\n",
    "    df_timit = df[df[\"Group\"] == \"TIMIT\"].copy()\n",
    "    df_timit[\"Subset\"] = \"eval\"  # ← 여기에 명시적으로 추가\n",
    "    df_all_timit.append(df_timit)\n",
    "\n",
    "    print(f\"{fname}: {len(df_timit)}개 TIMIT 샘플 수집됨\")\n",
    "\n",
    "# 병합 및 저장\n",
    "df_concat = pd.concat(df_all_timit, ignore_index=True)\n",
    "\n",
    "# 모든 컬럼 유지 + 저장\n",
    "df_concat.to_csv(output_path, index=False)\n",
    "print(f\"\\n✅ 모든 TIMIT 샘플 전체 컬럼 포함 병합 완료 → {output_path} (총 {len(df_concat)}개)\")\n"
   ]
  },
  {
   "cell_type": "code",
   "execution_count": 3,
   "id": "d7c21000",
   "metadata": {},
   "outputs": [
    {
     "name": "stderr",
     "output_type": "stream",
     "text": [
      "/home/woongjae/miniconda3/envs/asvspoof5/lib/python3.9/site-packages/IPython/core/interactiveshell.py:3550: DtypeWarning: Columns (7) have mixed types.Specify dtype option on import or set low_memory=False.\n",
      "  exec(code_obj, self.user_global_ns, self.user_ns)\n"
     ]
    },
    {
     "name": "stdout",
     "output_type": "stream",
     "text": [
      "✅ Sub_meta + TIMIT 병합 완료 → /home/woongjae/noise-tracing/new_dataset/Dataset/metafile/Sub_meta_merged.csv (총 490000개 샘플)\n"
     ]
    }
   ],
   "source": [
    "import pandas as pd\n",
    "import os\n",
    "\n",
    "meta_dir = \"/home/woongjae/noise-tracing/new_dataset/Dataset/metafile\"\n",
    "sub_meta_path = os.path.join(meta_dir, \"meta_subset.csv\")\n",
    "timit_path = os.path.join(meta_dir, \"meta_timit_all.csv\")\n",
    "merged_path = os.path.join(meta_dir, \"Sub_meta_merged.csv\")\n",
    "\n",
    "# 파일 불러오기\n",
    "df_orig = pd.read_csv(sub_meta_path)\n",
    "df_timit = pd.read_csv(timit_path)\n",
    "\n",
    "# 컬럼 통일 (혹시 누락된 컬럼이 있으면 추가)\n",
    "for col in df_orig.columns:\n",
    "    if col not in df_timit.columns:\n",
    "        df_timit[col] = \"\"\n",
    "\n",
    "# 동일한 순서로 정렬\n",
    "df_timit = df_timit[df_orig.columns]\n",
    "\n",
    "# 병합\n",
    "df_combined = pd.concat([df_orig, df_timit], ignore_index=True)\n",
    "df_combined.to_csv(merged_path, index=False)\n",
    "\n",
    "print(f\"✅ Sub_meta + TIMIT 병합 완료 → {merged_path} (총 {len(df_combined)}개 샘플)\")\n"
   ]
  },
  {
   "cell_type": "code",
   "execution_count": null,
   "id": "ff6b140a",
   "metadata": {},
   "outputs": [],
   "source": []
  }
 ],
 "metadata": {
  "kernelspec": {
   "display_name": "asvspoof5",
   "language": "python",
   "name": "python3"
  },
  "language_info": {
   "codemirror_mode": {
    "name": "ipython",
    "version": 3
   },
   "file_extension": ".py",
   "mimetype": "text/x-python",
   "name": "python",
   "nbconvert_exporter": "python",
   "pygments_lexer": "ipython3",
   "version": "3.9.21"
  }
 },
 "nbformat": 4,
 "nbformat_minor": 5
}
