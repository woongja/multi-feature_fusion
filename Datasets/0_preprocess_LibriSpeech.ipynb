{
 "cells": [
  {
   "cell_type": "code",
   "execution_count": 1,
   "id": "f8c7d253",
   "metadata": {},
   "outputs": [],
   "source": [
    "import librosa\n",
    "import pandas as pd\n",
    "import numpy as np\n",
    "import random\n",
    "import shutil\n",
    "import os"
   ]
  },
  {
   "cell_type": "markdown",
   "id": "fd6c6b32",
   "metadata": {},
   "source": [
    "### 메타데이터 확인"
   ]
  },
  {
   "cell_type": "code",
   "execution_count": 5,
   "id": "95dd45fd",
   "metadata": {},
   "outputs": [
    {
     "name": "stdout",
     "output_type": "stream",
     "text": [
      "                                         path Utterence name (file name)  \\\n",
      "0  Real/LibriSpeech/wav16/7241-90850-0013.wav        7241-90850-0013.wav   \n",
      "1  Real/LibriSpeech/wav16/7241-90852-0056.wav        7241-90852-0056.wav   \n",
      "2  Real/LibriSpeech/wav16/7241-90852-0014.wav        7241-90852-0014.wav   \n",
      "3  Real/LibriSpeech/wav16/7241-90850-0034.wav        7241-90850-0034.wav   \n",
      "4  Real/LibriSpeech/wav16/7241-90852-0032.wav        7241-90852-0032.wav   \n",
      "\n",
      "  TTS or VC Is multi-speaker? Language Noise type 1 Source link  \\\n",
      "0         -                No  English            -           -   \n",
      "1         -                No  English            -           -   \n",
      "2         -                No  English            -           -   \n",
      "3         -                No  English            -           -   \n",
      "4         -                No  English            -           -   \n",
      "\n",
      "               utt        group Model  Speaker name Gender    Age     label  \n",
      "0  7241-90850-0013  LibriSpeech     -  AdrianBisson   Male  Adult  bonafide  \n",
      "1  7241-90852-0056  LibriSpeech     -  AdrianBisson   Male  Adult  bonafide  \n",
      "2  7241-90852-0014  LibriSpeech     -  AdrianBisson   Male  Adult  bonafide  \n",
      "3  7241-90850-0034  LibriSpeech     -  AdrianBisson   Male  Adult  bonafide  \n",
      "4  7241-90852-0032  LibriSpeech     -  AdrianBisson   Male  Adult  bonafide  \n"
     ]
    }
   ],
   "source": [
    "file_path = \"/home/woongjae/noise-tracing/Datasets/LibriSpeech/meta.csv\"\n",
    "meta_data = pd.read_csv(file_path, sep=',')\n",
    "print(meta_data.head())"
   ]
  },
  {
   "cell_type": "code",
   "execution_count": 9,
   "id": "130fda44",
   "metadata": {},
   "outputs": [
    {
     "name": "stdout",
     "output_type": "stream",
     "text": [
      "['-']\n",
      "AdrianBisson         100\n",
      "Mike Rosenlof        100\n",
      "Mitchell Dwyer       100\n",
      "Monique              100\n",
      "Mur Lafferty         100\n",
      "                    ... \n",
      "James Smith          100\n",
      "Jan Dawn Doronila    100\n",
      "Janet                100\n",
      "Jason Isbell         100\n",
      "wvthcomp             100\n",
      "Name: Speaker name, Length: 166, dtype: int64\n"
     ]
    }
   ],
   "source": [
    "print(meta_data['Noise type 1'].unique())\n",
    "speaker_counts = meta_data['Speaker name'].value_counts()\n",
    "print(speaker_counts)"
   ]
  },
  {
   "cell_type": "markdown",
   "id": "a776ce8a",
   "metadata": {},
   "source": [
    "### 각 화자별로 100개씩 랜덤으로 뽑기"
   ]
  },
  {
   "cell_type": "code",
   "execution_count": 2,
   "id": "be7f2901",
   "metadata": {},
   "outputs": [],
   "source": [
    "meta_path = \"/home/woongjae/noise-tracing/Datasets/LibriSpeech/meta.csv\"\n",
    "output_dir = \"/home/woongjae/noise-tracing/new_dataset/Dataset/Bonafide/Clean\"\n",
    "base_dir = '/home/woongjae/noise-tracing/Datasets'  # 오디오 파일 기준 루트\n",
    "os.makedirs(output_dir, exist_ok=True)\n",
    "\n",
    "# 메타데이터 불러오기\n",
    "df = pd.read_csv(meta_path)\n",
    "\n",
    "# 각 화자당 100개 이상 샘플이 있는 화자만 선택\n",
    "speaker_counts = df['Speaker name'].value_counts()\n",
    "eligible_speakers = speaker_counts[speaker_counts >= 100].index.tolist()\n",
    "\n",
    "# 메타데이터 저장용 리스트\n",
    "new_meta = []\n",
    "\n",
    "# 각 화자에서 100개씩 랜덤 추출 + 복사 + 메타정보 수집\n",
    "for speaker in eligible_speakers:\n",
    "    speaker_df = df[df['Speaker name'] == speaker]\n",
    "    sampled_df = speaker_df.sample(n=100, random_state=42)\n",
    "\n",
    "    for _, row in sampled_df.iterrows():\n",
    "        rel_path = row['path'].replace('Real/', '')\n",
    "        abs_path = os.path.join(base_dir, rel_path)\n",
    "        dst = os.path.join(output_dir, os.path.basename(rel_path))\n",
    "\n",
    "        # 파일 복사\n",
    "        shutil.copy(abs_path, dst)\n",
    "\n",
    "        # 메타데이터 항목 저장\n",
    "        new_meta.append({\n",
    "            'File_path': dst,\n",
    "            'utt': row['utt'],\n",
    "            'speaker ID': row['Speaker name'],\n",
    "            'gender': row['Gender'],\n",
    "            'Group': 'LibriSpeech',\n",
    "            'Label': 'bonafide'\n",
    "        })\n",
    "\n",
    "# 메타데이터 저장\n",
    "meta_df = pd.DataFrame(new_meta)\n",
    "meta_df.to_csv('meta_new_LibriSpeech.csv', index=False)"
   ]
  },
  {
   "cell_type": "code",
   "execution_count": null,
   "id": "115a5671",
   "metadata": {},
   "outputs": [],
   "source": []
  }
 ],
 "metadata": {
  "kernelspec": {
   "display_name": "asvspoof5",
   "language": "python",
   "name": "python3"
  },
  "language_info": {
   "codemirror_mode": {
    "name": "ipython",
    "version": 3
   },
   "file_extension": ".py",
   "mimetype": "text/x-python",
   "name": "python",
   "nbconvert_exporter": "python",
   "pygments_lexer": "ipython3",
   "version": "3.9.21"
  }
 },
 "nbformat": 4,
 "nbformat_minor": 5
}
