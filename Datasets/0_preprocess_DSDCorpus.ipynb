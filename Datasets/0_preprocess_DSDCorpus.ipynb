{
 "cells": [
  {
   "cell_type": "markdown",
   "metadata": {},
   "source": [
    "# 라이브러리"
   ]
  },
  {
   "cell_type": "code",
   "execution_count": 1,
   "metadata": {},
   "outputs": [],
   "source": [
    "import librosa\n",
    "import pandas as pd\n",
    "import numpy as np\n",
    "import random\n",
    "import shutil\n",
    "import os"
   ]
  },
  {
   "cell_type": "markdown",
   "metadata": {},
   "source": [
    "# Meta File"
   ]
  },
  {
   "cell_type": "code",
   "execution_count": 2,
   "metadata": {},
   "outputs": [
    {
     "data": {
      "text/html": [
       "<div>\n",
       "<style scoped>\n",
       "    .dataframe tbody tr th:only-of-type {\n",
       "        vertical-align: middle;\n",
       "    }\n",
       "\n",
       "    .dataframe tbody tr th {\n",
       "        vertical-align: top;\n",
       "    }\n",
       "\n",
       "    .dataframe thead th {\n",
       "        text-align: right;\n",
       "    }\n",
       "</style>\n",
       "<table border=\"1\" class=\"dataframe\">\n",
       "  <thead>\n",
       "    <tr style=\"text-align: right;\">\n",
       "      <th></th>\n",
       "      <th>utt</th>\n",
       "      <th>Utterence name (file name)</th>\n",
       "      <th>Speaker name</th>\n",
       "      <th>Model</th>\n",
       "      <th>Language</th>\n",
       "      <th>Gender</th>\n",
       "      <th>Age</th>\n",
       "      <th>Source link</th>\n",
       "      <th>Noise type 1</th>\n",
       "      <th>label</th>\n",
       "      <th>group</th>\n",
       "      <th>TTS or VC</th>\n",
       "      <th>Is multi-speaker?</th>\n",
       "      <th>path</th>\n",
       "      <th>subset</th>\n",
       "    </tr>\n",
       "  </thead>\n",
       "  <tbody>\n",
       "    <tr>\n",
       "      <th>0</th>\n",
       "      <td>TTS_Sasha_12</td>\n",
       "      <td>TTS_Sasha_12.wav</td>\n",
       "      <td>Sasha</td>\n",
       "      <td>-</td>\n",
       "      <td>Swedish</td>\n",
       "      <td>Female</td>\n",
       "      <td>Teenager</td>\n",
       "      <td>https://elevenlabs.io/speech-synthesis</td>\n",
       "      <td>-</td>\n",
       "      <td>spoof</td>\n",
       "      <td>Elevenlabs</td>\n",
       "      <td>TTS</td>\n",
       "      <td>No</td>\n",
       "      <td>Synthesizers/Elevenlabs/TTS_Sasha_12.wav</td>\n",
       "      <td>train</td>\n",
       "    </tr>\n",
       "    <tr>\n",
       "      <th>1</th>\n",
       "      <td>TTS_Paul_99</td>\n",
       "      <td>TTS_Paul_99.wav</td>\n",
       "      <td>Paul</td>\n",
       "      <td>-</td>\n",
       "      <td>Korean</td>\n",
       "      <td>Male</td>\n",
       "      <td>Adult</td>\n",
       "      <td>https://elevenlabs.io/speech-synthesis</td>\n",
       "      <td>-</td>\n",
       "      <td>spoof</td>\n",
       "      <td>Elevenlabs</td>\n",
       "      <td>TTS</td>\n",
       "      <td>No</td>\n",
       "      <td>Synthesizers/Elevenlabs/TTS_Paul_99.wav</td>\n",
       "      <td>train</td>\n",
       "    </tr>\n",
       "    <tr>\n",
       "      <th>2</th>\n",
       "      <td>TTS_Patrick_41</td>\n",
       "      <td>TTS_Patrick_41.wav</td>\n",
       "      <td>Patrick</td>\n",
       "      <td>-</td>\n",
       "      <td>French</td>\n",
       "      <td>Male</td>\n",
       "      <td>Adult</td>\n",
       "      <td>https://elevenlabs.io/speech-synthesis</td>\n",
       "      <td>-</td>\n",
       "      <td>spoof</td>\n",
       "      <td>Elevenlabs</td>\n",
       "      <td>TTS</td>\n",
       "      <td>No</td>\n",
       "      <td>Synthesizers/Elevenlabs/TTS_Patrick_41.wav</td>\n",
       "      <td>train</td>\n",
       "    </tr>\n",
       "    <tr>\n",
       "      <th>3</th>\n",
       "      <td>TTS_Jeremy_49</td>\n",
       "      <td>TTS_Jeremy_49.wav</td>\n",
       "      <td>Jeremy</td>\n",
       "      <td>-</td>\n",
       "      <td>Hindi</td>\n",
       "      <td>Male</td>\n",
       "      <td>Adult</td>\n",
       "      <td>https://elevenlabs.io/speech-synthesis</td>\n",
       "      <td>-</td>\n",
       "      <td>spoof</td>\n",
       "      <td>Elevenlabs</td>\n",
       "      <td>TTS</td>\n",
       "      <td>No</td>\n",
       "      <td>Synthesizers/Elevenlabs/TTS_Jeremy_49.wav</td>\n",
       "      <td>train</td>\n",
       "    </tr>\n",
       "    <tr>\n",
       "      <th>4</th>\n",
       "      <td>TTS_Joseph_30</td>\n",
       "      <td>TTS_Joseph_30.wav</td>\n",
       "      <td>Joseph</td>\n",
       "      <td>-</td>\n",
       "      <td>Arabic</td>\n",
       "      <td>Male</td>\n",
       "      <td>Adult</td>\n",
       "      <td>https://elevenlabs.io/speech-synthesis</td>\n",
       "      <td>-</td>\n",
       "      <td>spoof</td>\n",
       "      <td>Elevenlabs</td>\n",
       "      <td>TTS</td>\n",
       "      <td>No</td>\n",
       "      <td>Synthesizers/Elevenlabs/TTS_Joseph_30.wav</td>\n",
       "      <td>train</td>\n",
       "    </tr>\n",
       "  </tbody>\n",
       "</table>\n",
       "</div>"
      ],
      "text/plain": [
       "              utt Utterence name (file name) Speaker name Model Language  \\\n",
       "0    TTS_Sasha_12           TTS_Sasha_12.wav        Sasha     -  Swedish   \n",
       "1     TTS_Paul_99            TTS_Paul_99.wav         Paul     -   Korean   \n",
       "2  TTS_Patrick_41         TTS_Patrick_41.wav      Patrick     -   French   \n",
       "3   TTS_Jeremy_49          TTS_Jeremy_49.wav       Jeremy     -    Hindi   \n",
       "4   TTS_Joseph_30          TTS_Joseph_30.wav       Joseph     -   Arabic   \n",
       "\n",
       "   Gender       Age                             Source link Noise type 1  \\\n",
       "0  Female  Teenager  https://elevenlabs.io/speech-synthesis            -   \n",
       "1    Male     Adult  https://elevenlabs.io/speech-synthesis            -   \n",
       "2    Male     Adult  https://elevenlabs.io/speech-synthesis            -   \n",
       "3    Male     Adult  https://elevenlabs.io/speech-synthesis            -   \n",
       "4    Male     Adult  https://elevenlabs.io/speech-synthesis            -   \n",
       "\n",
       "   label       group TTS or VC Is multi-speaker?  \\\n",
       "0  spoof  Elevenlabs       TTS                No   \n",
       "1  spoof  Elevenlabs       TTS                No   \n",
       "2  spoof  Elevenlabs       TTS                No   \n",
       "3  spoof  Elevenlabs       TTS                No   \n",
       "4  spoof  Elevenlabs       TTS                No   \n",
       "\n",
       "                                         path subset  \n",
       "0    Synthesizers/Elevenlabs/TTS_Sasha_12.wav  train  \n",
       "1     Synthesizers/Elevenlabs/TTS_Paul_99.wav  train  \n",
       "2  Synthesizers/Elevenlabs/TTS_Patrick_41.wav  train  \n",
       "3   Synthesizers/Elevenlabs/TTS_Jeremy_49.wav  train  \n",
       "4   Synthesizers/Elevenlabs/TTS_Joseph_30.wav  train  "
      ]
     },
     "execution_count": 2,
     "metadata": {},
     "output_type": "execute_result"
    }
   ],
   "source": [
    "df_path = \"/home/woongjae/noise-tracing/Datasets/2-DSD-corpus/all_meta_fake.csv\"\n",
    "\n",
    "meta_df = pd.read_csv(df_path, sep=\",\")\n",
    "\n",
    "meta_df.head()"
   ]
  },
  {
   "cell_type": "code",
   "execution_count": 5,
   "metadata": {},
   "outputs": [
    {
     "name": "stdout",
     "output_type": "stream",
     "text": [
      "['Elevenlabs' 'DDDM-VC' 'VITS-TTS' 'SeamlessM4T-TTS' 'MMSTTS' 'QuickVC'\n",
      " 'VITS-AIHUB' 'Diff-HierVC' 'Tortoise-TTS' 'StarGANv2-VC' 'OpenVoice'\n",
      " 'MeloTTS' 'StyleTTS2']\n",
      "VITS-AIHUB         16300\n",
      "Elevenlabs          5000\n",
      "VITS-TTS            4100\n",
      "Tortoise-TTS        2900\n",
      "DDDM-VC             2000\n",
      "QuickVC             2000\n",
      "Diff-HierVC         2000\n",
      "StarGANv2-VC        2000\n",
      "OpenVoice           1300\n",
      "StyleTTS2           1300\n",
      "SeamlessM4T-TTS     1100\n",
      "MeloTTS             1000\n",
      "MMSTTS               900\n",
      "Name: group, dtype: int64\n"
     ]
    }
   ],
   "source": [
    "print(meta_df['group'].unique())\n",
    "print(meta_df['group'].value_counts())"
   ]
  },
  {
   "cell_type": "code",
   "execution_count": 16,
   "metadata": {},
   "outputs": [
    {
     "name": "stdout",
     "output_type": "stream",
     "text": [
      "utt                          Utterence name (file name)       Speaker name    Model      Language  Gender  Age    Source link                                         Noise type 1  label  group         TTS or VC  Is multi-speaker?  path                                                       subset\n",
      "MMSTTS_eng_000001            MMSTTS_eng_000001.wav            MMSTTS_English  VITS       English   Male    Adult  https://huggingface.co/facebook/mms-tts             -             spoof  MMSTTS        TTS        No                 Synthesizers/MMSTTS/MMSTTS_eng_000001.wav                  dev       1\n",
      "VITS_p284_to_p285_5          VITS_p284_to_p285_5.wav          p285            VITS       English   Male    Adult  https://github.com/quickvc/QuickVC-VoiceConversion  -             spoof  QuickVC       VC         No                 Synthesizers/QuickVC/VITS_p284_to_p285_5.wav               train     1\n",
      "VITS_p284_to_p285_25         VITS_p284_to_p285_25.wav         p285            VITS       English   Male    Adult  https://github.com/quickvc/QuickVC-VoiceConversion  -             spoof  QuickVC       VC         No                 Synthesizers/QuickVC/VITS_p284_to_p285_25.wav              train     1\n",
      "VITS_p284_to_p285_3          VITS_p284_to_p285_3.wav          p285            VITS       English   Male    Adult  https://github.com/quickvc/QuickVC-VoiceConversion  -             spoof  QuickVC       VC         No                 Synthesizers/QuickVC/VITS_p284_to_p285_3.wav               eval      1\n",
      "VITS_p284_to_p285_33         VITS_p284_to_p285_33.wav         p285            VITS       English   Male    Adult  https://github.com/quickvc/QuickVC-VoiceConversion  -             spoof  QuickVC       VC         No                 Synthesizers/QuickVC/VITS_p284_to_p285_33.wav              train     1\n",
      "                                                                                                                                                                                                                                                                                                           ..\n",
      "TTS_VCTK_39_VITS_40          TTS_VCTK_39_VITS_40.wav          VCTK_39         VITS       English   Male    Adult  https://github.com/jaywalnut310/vits                -             spoof  VITS-TTS      TTS        No                 Synthesizers/VITS/TTS_VCTK_39_VITS_40.wav                  dev       1\n",
      "TTS_VCTK_39_VITS_41          TTS_VCTK_39_VITS_41.wav          VCTK_39         VITS       English   Male    Adult  https://github.com/jaywalnut310/vits                -             spoof  VITS-TTS      TTS        No                 Synthesizers/VITS/TTS_VCTK_39_VITS_41.wav                  dev       1\n",
      "TTS_VCTK_39_VITS_42          TTS_VCTK_39_VITS_42.wav          VCTK_39         VITS       English   Male    Adult  https://github.com/jaywalnut310/vits                -             spoof  VITS-TTS      TTS        No                 Synthesizers/VITS/TTS_VCTK_39_VITS_42.wav                  eval      1\n",
      "TTS_VCTK_39_VITS_43          TTS_VCTK_39_VITS_43.wav          VCTK_39         VITS       English   Male    Adult  https://github.com/jaywalnut310/vits                -             spoof  VITS-TTS      TTS        No                 Synthesizers/VITS/TTS_VCTK_39_VITS_43.wav                  train     1\n",
      "william_tortoise-tts_001993  william_tortoise-tts_001993.wav  william         Diffusion  English   Male    Elder  -                                                   -             spoof  Tortoise-TTS  TTS        No                 Synthesizers/Tortoise-TTS/william_tortoise-tts_001993.wav  dev       1\n",
      "Length: 13300, dtype: int64\n"
     ]
    }
   ],
   "source": [
    "# print(meta_df['Speaker name'].unique())\n",
    "# print(meta_df['Speaker name'].value_counts())\n",
    "print(meta_df[meta_df['Language']=='English'].value_counts())"
   ]
  },
  {
   "cell_type": "code",
   "execution_count": 22,
   "metadata": {},
   "outputs": [
    {
     "name": "stdout",
     "output_type": "stream",
     "text": [
      "✅ Cleaned English speaker 중 100개 이상인 speaker 수: 152\n",
      "📦 총 샘플 수: 17300\n"
     ]
    },
    {
     "name": "stderr",
     "output_type": "stream",
     "text": [
      "/tmp/ipykernel_4038601/2076163805.py:6: SettingWithCopyWarning: \n",
      "A value is trying to be set on a copy of a slice from a DataFrame.\n",
      "Try using .loc[row_indexer,col_indexer] = value instead\n",
      "\n",
      "See the caveats in the documentation: https://pandas.pydata.org/pandas-docs/stable/user_guide/indexing.html#returning-a-view-versus-a-copy\n",
      "  df_en['Speaker name'] = df_en['Speaker name'].str.strip().str.lower()\n"
     ]
    }
   ],
   "source": [
    "df = pd.read_csv(df_path)\n",
    "df['Language'] = df['Language'].str.strip()\n",
    "df_en = df[df['Language'] == 'English']\n",
    "\n",
    "# 🔧 Speaker name 정제\n",
    "df_en['Speaker name'] = df_en['Speaker name'].str.strip().str.lower()\n",
    "\n",
    "# ✅ 다시 speaker당 샘플 수 확인\n",
    "speaker_counts = df_en['Speaker name'].value_counts()\n",
    "eligible_speakers = speaker_counts[speaker_counts >= 100]\n",
    "\n",
    "print(f\"✅ Cleaned English speaker 중 100개 이상인 speaker 수: {len(eligible_speakers)}\")\n",
    "print(f\"📦 총 샘플 수: {eligible_speakers.sum()}\")"
   ]
  },
  {
   "cell_type": "markdown",
   "metadata": {},
   "source": [
    "### 모든 그룹의 spoof 샘플 저장하기"
   ]
  },
  {
   "cell_type": "code",
   "execution_count": 4,
   "metadata": {},
   "outputs": [
    {
     "name": "stdout",
     "output_type": "stream",
     "text": [
      "✅ 메타데이터 저장 완료: /home/woongjae/noise-tracing/new_dataset/meta_new_DSDCorpus.csv (샘플 수: 15200)\n"
     ]
    }
   ],
   "source": [
    "meta_path = \"/home/woongjae/noise-tracing/Datasets/2-DSD-corpus/all_meta_fake.csv\"\n",
    "output_dir = \"/home/woongjae/noise-tracing/new_dataset/Dataset/Spoof/Clean\"\n",
    "base_dir = \"/home/woongjae/noise-tracing/Datasets/2-DSD-corpus\"\n",
    "os.makedirs(output_dir, exist_ok=True)\n",
    "\n",
    "# 메타데이터 불러오기\n",
    "df = pd.read_csv(meta_path)\n",
    "\n",
    "# ✅ Language == English만 필터링\n",
    "df = df[df['Language'] == 'English']\n",
    "\n",
    "# speaker별 샘플 개수 확인\n",
    "speaker_counts = df['Speaker name'].value_counts()\n",
    "eligible_speakers = speaker_counts[speaker_counts >= 100].index\n",
    "\n",
    "# spoof 샘플 저장용 리스트\n",
    "new_meta = []\n",
    "\n",
    "# 필터링된 speaker 대상으로 100개씩 랜덤 추출 및 복사\n",
    "for speaker in eligible_speakers:\n",
    "    speaker_df = df[df['Speaker name'] == speaker].sample(n=100, random_state=42)\n",
    "    \n",
    "    for _, row in speaker_df.iterrows():\n",
    "        rel_path = row['path']\n",
    "        abs_path = os.path.join(base_dir, rel_path)\n",
    "        dst = os.path.join(output_dir, os.path.basename(rel_path))\n",
    "\n",
    "        # 파일 복사\n",
    "        shutil.copy(abs_path, dst)\n",
    "\n",
    "        # 메타데이터 항목 생성\n",
    "        new_meta.append({\n",
    "            'File_path': dst,\n",
    "            'utt': row['utt'],\n",
    "            'speaker ID': row['Speaker name'],\n",
    "            'gender': row['Gender'],\n",
    "            'Group': row['group'],\n",
    "            'Label': 'spoof'\n",
    "        })\n",
    "\n",
    "# 메타데이터 저장\n",
    "meta_out = \"/home/woongjae/noise-tracing/new_dataset/meta_new_DSDCorpus.csv\"\n",
    "pd.DataFrame(new_meta).to_csv(meta_out, index=False)\n",
    "print(f\"✅ 메타데이터 저장 완료: {meta_out} (샘플 수: {len(new_meta)})\")"
   ]
  },
  {
   "cell_type": "code",
   "execution_count": null,
   "metadata": {},
   "outputs": [],
   "source": []
  }
 ],
 "metadata": {
  "kernelspec": {
   "display_name": "asvspoof5",
   "language": "python",
   "name": "python3"
  },
  "language_info": {
   "codemirror_mode": {
    "name": "ipython",
    "version": 3
   },
   "file_extension": ".py",
   "mimetype": "text/x-python",
   "name": "python",
   "nbconvert_exporter": "python",
   "pygments_lexer": "ipython3",
   "version": "3.9.21"
  }
 },
 "nbformat": 4,
 "nbformat_minor": 2
}
