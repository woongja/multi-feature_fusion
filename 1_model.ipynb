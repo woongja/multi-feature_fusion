{
 "cells": [
  {
   "cell_type": "code",
   "execution_count": 2,
   "id": "0a57b698",
   "metadata": {},
   "outputs": [
    {
     "name": "stdout",
     "output_type": "stream",
     "text": [
      "Checkpoint에 저장된 파라미터 개수: 34\n",
      "Checkpoint 예시 keys: ['classifier.4.weight', 'spec_branch.features.10.weight', 'f0_branch.conv.0.bias', 'spec_branch.features.8.weight', 'mfcc_branch.features.5.bias', 'mfcc_branch.features.2.bias', 'f0_branch.fc.1.weight', 'classifier.1.bias', 'spec_branch.fc.0.bias', 'mfcc_branch.features.0.weight']\n",
      "현재 모델 파라미터 개수: 26\n",
      "모델 예시 keys: ['classifier.4.weight', 'spec_branch.features.10.weight', 'f0_branch.conv.0.bias', 'spec_branch.features.8.weight', 'mfcc_branch.features.5.bias', 'mfcc_branch.features.2.bias', 'f0_branch.fc.1.weight', 'classifier.1.bias', 'mfcc_branch.features.0.weight', 'f0_branch.conv.0.weight']\n",
      "\n",
      "Checkpoint에만 있고, 현재 모델에는 없는 key (Unexpected): 8\n",
      "['spec_branch.fc.3.bias', 'spec_branch.fc.0.weight', 'mfcc_branch.fc.3.weight', 'mfcc_branch.fc.3.bias', 'spec_branch.fc.0.bias', 'mfcc_branch.fc.0.bias', 'spec_branch.fc.3.weight', 'mfcc_branch.fc.0.weight']\n",
      "\n",
      "현재 모델에만 있고, checkpoint에는 없는 key (Missing): 0\n",
      "[]\n"
     ]
    }
   ],
   "source": [
    "import torch\n",
    "\n",
    "# 저장된 모델 checkpoint 경로와 현재 모델 import\n",
    "ckpt_path = \"/home/woongjae/noise-tracing/muti-feature_fusion/out/best_model.pth\"\n",
    "\n",
    "# 1. checkpoint의 state_dict 키 목록 읽기\n",
    "ckpt = torch.load(ckpt_path, map_location='cpu')\n",
    "ckpt_keys = set(ckpt.keys())\n",
    "print(f\"Checkpoint에 저장된 파라미터 개수: {len(ckpt_keys)}\")\n",
    "print(\"Checkpoint 예시 keys:\", list(ckpt_keys)[:10])\n",
    "\n",
    "# 2. 현재 코드에서 모델 생성(구조 정의) 후, state_dict 키 목록\n",
    "from models.AlexNet_fusion import FusionNet  # 경로/이름 프로젝트에 맞게 수정\n",
    "\n",
    "model = FusionNet(\n",
    "    num_classes=9,  # 실험에 맞는 클래스 수로\n",
    "    branch_output_dim=1024,\n",
    "    spec_shape=(1, 128, 126),\n",
    "    mfcc_shape=(1, 13, 126),\n",
    "    f0_len=126\n",
    ")\n",
    "model_keys = set(model.state_dict().keys())\n",
    "print(f\"현재 모델 파라미터 개수: {len(model_keys)}\")\n",
    "print(\"모델 예시 keys:\", list(model_keys)[:10])\n",
    "\n",
    "# 3. checkpoint에는 있는데 모델에 없는 키\n",
    "unexpected = ckpt_keys - model_keys\n",
    "print(f\"\\nCheckpoint에만 있고, 현재 모델에는 없는 key (Unexpected): {len(unexpected)}\")\n",
    "print(list(unexpected))\n",
    "\n",
    "# 4. 모델에는 있는데 checkpoint에는 없는 키\n",
    "missing = model_keys - ckpt_keys\n",
    "print(f\"\\n현재 모델에만 있고, checkpoint에는 없는 key (Missing): {len(missing)}\")\n",
    "print(list(missing))\n"
   ]
  },
  {
   "cell_type": "code",
   "execution_count": null,
   "id": "52e18ce5",
   "metadata": {},
   "outputs": [],
   "source": []
  }
 ],
 "metadata": {
  "kernelspec": {
   "display_name": "asvspoof5",
   "language": "python",
   "name": "python3"
  },
  "language_info": {
   "codemirror_mode": {
    "name": "ipython",
    "version": 3
   },
   "file_extension": ".py",
   "mimetype": "text/x-python",
   "name": "python",
   "nbconvert_exporter": "python",
   "pygments_lexer": "ipython3",
   "version": "3.9.21"
  }
 },
 "nbformat": 4,
 "nbformat_minor": 5
}
